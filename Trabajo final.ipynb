{
  "nbformat": 4,
  "nbformat_minor": 0,
  "metadata": {
    "colab": {
      "provenance": [],
      "include_colab_link": true
    },
    "kernelspec": {
      "name": "python3",
      "display_name": "Python 3"
    },
    "language_info": {
      "name": "python"
    }
  },
  "cells": [
    {
      "cell_type": "markdown",
      "metadata": {
        "id": "view-in-github",
        "colab_type": "text"
      },
      "source": [
        "<a href=\"https://colab.research.google.com/github/RosmaryMezaR/Trabajo_Final_Python_Basico/blob/main/Trabajo%20final.ipynb\" target=\"_parent\"><img src=\"https://colab.research.google.com/assets/colab-badge.svg\" alt=\"Open In Colab\"/></a>"
      ]
    },
    {
      "cell_type": "markdown",
      "source": [
        "## ***Modulo 2***\n",
        "\n",
        "## **A. Sentencias IF**\n",
        "\n",
        "**Ejercicio 1**\n",
        "\n",
        "Imagina que un extraterrestre acaba de ser derribado en un juego. Cree una variable llamada alien_color y asígnele un valor de 'verde', 'amarillo' o 'rojo'. Escribe una declaración if para probar si el color del extraterrestre es verde. Si es así, imprime un mensaje de que el jugador acaba de ganar 5 puntos."
      ],
      "metadata": {
        "id": "sMluBvB-1jdF"
      }
    },
    {
      "cell_type": "code",
      "execution_count": 3,
      "metadata": {
        "id": "9zE_t7Q1dLYZ",
        "colab": {
          "base_uri": "https://localhost:8080/"
        },
        "outputId": "84b8adca-21b5-421c-f054-03adc8996050"
      },
      "outputs": [
        {
          "output_type": "stream",
          "name": "stdout",
          "text": [
            "¿El Alien es verde, amarillo o rojo?:verde\n",
            "Ganaste 5 puntos!!!\n"
          ]
        }
      ],
      "source": [
        "alien_color = input(\"¿El Alien es verde, amarillo o rojo?:\")\n",
        "if alien_color.lower() == \"verde\":\n",
        "  print(\"Ganaste 5 puntos!!!\")\n",
        "else:\n",
        "    print(\"prueba con otro color\")"
      ]
    },
    {
      "cell_type": "markdown",
      "source": [
        "**Ejercicio 2**\n",
        "\n",
        "Elija un color para un extraterrestre como lo hizo en el Ejercicio anterior y escriba una cadena if-else.\n",
        "\n",
        "Si el alienígena es verde, imprime un mensaje de que el jugador obtuvo 5 puntos. Si el alienígena es amarillo, imprime un mensaje de que el jugador obtuvo 10 puntos. Si el alienígena es rojo, imprime un mensaje de que el jugador obtuvo 15 puntos."
      ],
      "metadata": {
        "id": "8VeyoTc_13Pj"
      }
    },
    {
      "cell_type": "code",
      "source": [
        "alien_color = input(\"¿El Alien es verde, amarillo o rojo?:\")\n",
        "if alien_color.lower() == \"verde\":\n",
        "  print(\"Ganaste 5 puntos!!\")\n",
        "elif alien_color.lower() == \"amarillo\":\n",
        "  print(\"Ganaste 10 puntos!!\")\n",
        "else:\n",
        "  print(\"Ganaste 15 puntos!!\")"
      ],
      "metadata": {
        "colab": {
          "base_uri": "https://localhost:8080/"
        },
        "id": "-_Jb-y7H2CNf",
        "outputId": "542c4cf3-9350-4071-cac2-c7481601322b"
      },
      "execution_count": 9,
      "outputs": [
        {
          "output_type": "stream",
          "name": "stdout",
          "text": [
            "¿El Alien es verde, amarillo o rojo?:rojo\n",
            "Ganaste 15 puntos!!\n"
          ]
        }
      ]
    },
    {
      "cell_type": "markdown",
      "source": [
        "# **B. Sentencias While**\n",
        "\n",
        "**Ejercicio 1**\n",
        "\n",
        "Escriba un ciclo que solicite al usuario que ingrese una serie de ingredientes para la pizza hasta que ingrese un valor de 'salir'. A medida que ingresen cada ingrediente, imprima un mensaje que diga que agregará ese ingrediente a su pizza."
      ],
      "metadata": {
        "id": "xI3VwhBz2Drs"
      }
    },
    {
      "cell_type": "code",
      "source": [
        "print(\"Hoy prepararemos una deliciosa pizza segun su estilo\")\n",
        "while True:\n",
        "  Ingrediente = input(\"Ingrese por favor uno de los ingredientes: \")\n",
        "  if Ingrediente.lower() == 'salir':\n",
        "    print(f\"Excelente Ud. ha preparado una deliciosa pizza\")\n",
        "    break           \n",
        "  else:\n",
        "    print(f\"Se agregará entonces {Ingrediente} a su pizza\")\n",
        "    "
      ],
      "metadata": {
        "colab": {
          "base_uri": "https://localhost:8080/"
        },
        "id": "lebvi6Li2Qd8",
        "outputId": "aeb0008c-4572-4068-f4b4-794587eb231a"
      },
      "execution_count": 12,
      "outputs": [
        {
          "output_type": "stream",
          "name": "stdout",
          "text": [
            "Hoy prepararemos una deliciosa pizza segun su estilo\n",
            "Ingrese por favor uno de los ingredientes: masa para pizza\n",
            "Se agregará entonces masa para pizza a su pizza\n",
            "Ingrese por favor uno de los ingredientes: pasta de tomate\n",
            "Se agregará entonces pasta de tomate a su pizza\n",
            "Ingrese por favor uno de los ingredientes: peperoni\n",
            "Se agregará entonces peperoni a su pizza\n",
            "Ingrese por favor uno de los ingredientes: jamon\n",
            "Se agregará entonces jamon a su pizza\n",
            "Ingrese por favor uno de los ingredientes: pimientos\n",
            "Se agregará entonces pimientos a su pizza\n",
            "Ingrese por favor uno de los ingredientes: un poco aceitunas\n",
            "Se agregará entonces un poco aceitunas a su pizza\n",
            "Ingrese por favor uno de los ingredientes: abundante queso mozarella\n",
            "Se agregará entonces abundante queso mozarella a su pizza\n",
            "Ingrese por favor uno de los ingredientes: salir\n",
            "Excelente Ud. ha preparado una deliciosa pizza\n"
          ]
        }
      ]
    },
    {
      "cell_type": "markdown",
      "source": [
        "**Ejercicio 2**\n",
        "\n",
        "Un cine cobra diferentes precios de boletos dependiendo de la edad de una persona. Si una persona es menor de 3 años, la entrada es gratuita; si son entre 3 y 12, el boleto cuesta s/. 10; y si son mayores de 12 años, el boleto cuesta s/. 15. Escriba un ciclo en el que pregunte a los usuarios su edad y luego dígales el costo de su boleto de cine."
      ],
      "metadata": {
        "id": "Q4SKkDv-2RFt"
      }
    },
    {
      "cell_type": "code",
      "source": [
        "print (\"Para conocer el precio de su boleto\")\n",
        "while True:  \n",
        "  Edad_persona = int(input(\"Ingrese su edad: \"))  \n",
        "  if Edad_persona < 0:\n",
        "    break\n",
        "  elif Edad_persona >= 0 and Edad_persona < 3:\n",
        "    print(\"La entrada es gratuita\")\n",
        "  elif Edad_persona >= 3 and Edad_persona <= 12:\n",
        "    print(\"El precio del boleto es S/. 10\")   \n",
        "  elif Edad_persona > 12:\n",
        "    print(\"El precio del boleto es S/. 15\")\n",
        "  "
      ],
      "metadata": {
        "colab": {
          "base_uri": "https://localhost:8080/"
        },
        "id": "l68Ryrgz2ZRt",
        "outputId": "9a3cfcb0-29e1-4183-93da-ae6e992a8e3e"
      },
      "execution_count": 39,
      "outputs": [
        {
          "name": "stdout",
          "output_type": "stream",
          "text": [
            "Para conocer el precio de su boleto\n",
            "Ingrese su edad: 1\n",
            "La entrada es gratuita\n",
            "Ingrese su edad: 4\n",
            "El precio del boleto es S/. 10\n",
            "Ingrese su edad: 16\n",
            "El precio del boleto es S/. 15\n",
            "Ingrese su edad: -1\n"
          ]
        }
      ]
    },
    {
      "cell_type": "markdown",
      "source": [
        "# **C. Sentencia For**\n",
        "\n",
        "**Ejercicio 1**\n",
        "\n",
        "Piensa en al menos tres tipos de tu pizza favorita. Almacene estos nombres de pizza en una lista y luego use un ciclo for para imprimir el nombre de cada pizza.\n",
        "\n",
        "Modifique su ciclo for para imprimir una oración usando el nombre de la pizza en lugar de imprimir solo el nombre de la pizza. Para cada pizza, debe tener una línea de salida que contenga una declaración simple como Me gusta la pizza de pepperoni. Agregue una línea al final de su programa, fuera del bucle for, que indique cuánto le gusta la pizza. El resultado debe constar de tres o más líneas sobre los tipos de pizza que te gustan y luego una oración adicional, como ¡Me encanta la pizza!"
      ],
      "metadata": {
        "id": "mPGdeI9L2f30"
      }
    },
    {
      "cell_type": "code",
      "source": [
        "Lista_Pizzas = [\"Pepperoni\", \"Tricarne\", \"Americana\", \"Tropical\"]\n",
        "for i in Lista_Pizzas:\n",
        "  print(i)"
      ],
      "metadata": {
        "colab": {
          "base_uri": "https://localhost:8080/"
        },
        "id": "8CteiP-R2spq",
        "outputId": "0868b167-f93b-42ad-ea2e-62eec91c42ae"
      },
      "execution_count": 49,
      "outputs": [
        {
          "output_type": "stream",
          "name": "stdout",
          "text": [
            "Pepperoni\n",
            "Tricarne\n",
            "Americana\n",
            "Tropical\n"
          ]
        }
      ]
    },
    {
      "cell_type": "code",
      "source": [
        "Lista_Pizzas = [\"Pepperoni\", \"Tricarne\", \"Americana\", \"Tropical\"]\n",
        "for i in Lista_Pizzas:\n",
        "  print(f\"Me gusta la pizza {i}\")\n",
        "print(\"¡¡Me encantan todas las pizzas!!\")"
      ],
      "metadata": {
        "colab": {
          "base_uri": "https://localhost:8080/"
        },
        "id": "6DUL7-CeVQc6",
        "outputId": "096973ee-1452-4c56-a4b5-5f8bf563e383"
      },
      "execution_count": 50,
      "outputs": [
        {
          "output_type": "stream",
          "name": "stdout",
          "text": [
            "Me gusta la pizza Pepperoni\n",
            "Me gusta la pizza Tricarne\n",
            "Me gusta la pizza Americana\n",
            "Me gusta la pizza Tropical\n",
            "¡¡Me encantan todas las pizzas!!\n"
          ]
        }
      ]
    },
    {
      "cell_type": "markdown",
      "source": [
        "**Ejercicio 2**\n",
        "\n",
        "Piensa en al menos tres animales diferentes que tengan una característica común. Guarde los nombres de estos animales en una lista y luego use un ciclo for para imprimir el nombre de cada animal.\n",
        "\n",
        "Modifique su programa para imprimir una declaración sobre cada animal, como Un perro sería una gran mascota. Agregue una línea al final de su programa indicando lo que estos animales tienen en común. Podría escribir una oración como ¡Cualquiera de estos animales sería una gran mascota!"
      ],
      "metadata": {
        "id": "ZHXLW8R72tHb"
      }
    },
    {
      "cell_type": "code",
      "source": [
        "Lista_Animales = [\"Caballo\", \"Vaca\", \"Oveja\", \"Chivo\", \"Burro\"]\n",
        "for i in Lista_Animales:\n",
        "  print(i)"
      ],
      "metadata": {
        "colab": {
          "base_uri": "https://localhost:8080/"
        },
        "id": "93GwbwmC2x2c",
        "outputId": "7dadb552-dc0b-40a5-aae8-d0efb8b129ea"
      },
      "execution_count": 51,
      "outputs": [
        {
          "output_type": "stream",
          "name": "stdout",
          "text": [
            "Caballo\n",
            "Vaca\n",
            "Oveja\n",
            "Chivo\n",
            "Burro\n"
          ]
        }
      ]
    },
    {
      "cell_type": "code",
      "source": [
        "Lista_Animales = [\"Caballo\", \"Vaca\", \"Oveja\", \"Chivo\", \"Burro\"]\n",
        "for i in Lista_Animales:\n",
        "  print(f\"Un {i} vive en una granja\")\n",
        "print(\"¡Todos son muy importantes en la granja!!\")"
      ],
      "metadata": {
        "colab": {
          "base_uri": "https://localhost:8080/"
        },
        "id": "sYXN0P5NWhso",
        "outputId": "0b99fc7a-2629-4056-c868-bfe921a48be2"
      },
      "execution_count": 52,
      "outputs": [
        {
          "output_type": "stream",
          "name": "stdout",
          "text": [
            "Un Caballo vive en una granja\n",
            "Un Vaca vive en una granja\n",
            "Un Oveja vive en una granja\n",
            "Un Chivo vive en una granja\n",
            "Un Burro vive en una granja\n",
            "¡Todos son muy importantes en la granja!!\n"
          ]
        }
      ]
    },
    {
      "cell_type": "markdown",
      "source": [
        "# ***Modulo 3***\n",
        "## **A. Usando funciones con loops while**\n",
        "\n",
        "**Ejercicio 2**\n",
        "\n",
        "Escriba una función llamada make_album() que cree un diccionario que describa un álbum de música. La función debe tomar el nombre de un artista y el título de un álbum, y debe devolver un diccionario que contenga estos dos datos. Utilice la función para crear tres diccionarios que representen diferentes álbumes. Imprima cada valor devuelto para mostrar que los diccionarios están almacenando la información del álbum correctamente.\n",
        "\n",
        "Use None para agregar un parámetro opcional a make_album() que le permita almacenar la cantidad de canciones en un álbum. Si la línea de llamada incluye un valor para la cantidad de canciones, agregue ese valor al diccionario del álbum. Realice al menos una nueva llamada de función que incluya la cantidad de canciones en un álbum."
      ],
      "metadata": {
        "id": "Qk1sT3Bpb_rN"
      }
    },
    {
      "cell_type": "code",
      "source": [
        "def make_album(Artista, Album):  \n",
        "  Dic_Album = {'Nombre Artista': Artista, 'Nombre Albúm': Album}\n",
        "  return Dic_Album\n"
      ],
      "metadata": {
        "id": "zv_WOQfMcf-U"
      },
      "execution_count": 14,
      "outputs": []
    },
    {
      "cell_type": "code",
      "source": [
        "make_album(\"Thalia\", \"Equivocada\")\n"
      ],
      "metadata": {
        "colab": {
          "base_uri": "https://localhost:8080/"
        },
        "id": "d-kJrXR_D6mb",
        "outputId": "bd8a7490-54da-44d1-a396-2fb6bb7485c5"
      },
      "execution_count": 15,
      "outputs": [
        {
          "output_type": "execute_result",
          "data": {
            "text/plain": [
              "{'Nombre Artista': 'Thalia', 'Nombre Albúm': 'Equivocada'}"
            ]
          },
          "metadata": {},
          "execution_count": 15
        }
      ]
    },
    {
      "cell_type": "code",
      "source": [
        "make_album(\"Gianmarco\", \"Resucitar\")\n"
      ],
      "metadata": {
        "colab": {
          "base_uri": "https://localhost:8080/"
        },
        "id": "N_zvy3v0D8Kp",
        "outputId": "f3cbea73-afa8-4a4a-ff14-7e10ed20dd0a"
      },
      "execution_count": 16,
      "outputs": [
        {
          "output_type": "execute_result",
          "data": {
            "text/plain": [
              "{'Nombre Artista': 'Gianmarco', 'Nombre Albúm': 'Resucitar'}"
            ]
          },
          "metadata": {},
          "execution_count": 16
        }
      ]
    },
    {
      "cell_type": "code",
      "source": [
        "make_album(\"Roberto Carlos\", \"Ese hombre soy yo\")"
      ],
      "metadata": {
        "colab": {
          "base_uri": "https://localhost:8080/"
        },
        "id": "lUSltc6zD7og",
        "outputId": "525954fe-f7f0-4583-d79d-506ba88b795e"
      },
      "execution_count": 17,
      "outputs": [
        {
          "output_type": "execute_result",
          "data": {
            "text/plain": [
              "{'Nombre Artista': 'Roberto Carlos', 'Nombre Albúm': 'Ese hombre soy yo'}"
            ]
          },
          "metadata": {},
          "execution_count": 17
        }
      ]
    },
    {
      "cell_type": "code",
      "source": [
        "def make_album(Artista, Album, Canciones = None):\n",
        "  \"\"\"Return a dictionary of information about a person.\"\"\"\n",
        "  Dic_Album = {'Nombre Artista': Artista, 'Nombre Albúm': Album, 'Número canciones': Canciones}\n",
        "  return Dic_Album"
      ],
      "metadata": {
        "id": "Z6ANjqSHERUL"
      },
      "execution_count": 18,
      "outputs": []
    },
    {
      "cell_type": "code",
      "source": [
        "make_album(\"Gianmarco\", \"Resucitar\", 8)"
      ],
      "metadata": {
        "colab": {
          "base_uri": "https://localhost:8080/"
        },
        "id": "UXSvqJScEpHr",
        "outputId": "fcb4e337-4328-4517-98f3-2ed3b9a48ae6"
      },
      "execution_count": 19,
      "outputs": [
        {
          "output_type": "execute_result",
          "data": {
            "text/plain": [
              "{'Nombre Artista': 'Gianmarco',\n",
              " 'Nombre Albúm': 'Resucitar',\n",
              " 'Número canciones': 8}"
            ]
          },
          "metadata": {},
          "execution_count": 19
        }
      ]
    },
    {
      "cell_type": "markdown",
      "source": [
        "\n",
        "**Ejercicio 3**\n",
        "\n",
        "Comience con su programa del ejercicio anterior. Escriba un ciclo while que permita a los usuarios ingresar el artista y el título de un álbum. Una vez que tenga esa información, llame a make_album() con la entrada del usuario e imprima el diccionario que se crea. Asegúrese de incluir un valor de salida en el ciclo while."
      ],
      "metadata": {
        "id": "gyDrwq62cmID"
      }
    },
    {
      "cell_type": "code",
      "source": [
        "def make_album(Artista, Album):  \n",
        "  Dic_Album = {'Nombre Artista': Artista, 'Nombre Albúm': Album}\n",
        "  return Dic_Album\n"
      ],
      "metadata": {
        "id": "EZgWKkjmGWNb"
      },
      "execution_count": null,
      "outputs": []
    },
    {
      "cell_type": "code",
      "source": [
        "while True:  \n",
        "  Consulta_Artista = input(\"Ingrese el nombre del artista: \")  \n",
        "  Consulta_Album = input(\"Ingrese el nombre del albúm: \")  \n",
        "  Dic_Art_Alb = make_album(Consulta_Artista, Consulta_Album)\n",
        "  print(Dic_Art_Alb)\n",
        "  Consulta_Salir = input(\"Desea salir? \")  \n",
        "  if Consulta_Salir.lower() == 'si':\n",
        "    break\n",
        "       "
      ],
      "metadata": {
        "colab": {
          "base_uri": "https://localhost:8080/"
        },
        "id": "uz7269Fpcr2_",
        "outputId": "59113a66-ceb2-432a-af23-04cac23ded80"
      },
      "execution_count": null,
      "outputs": [
        {
          "name": "stdout",
          "output_type": "stream",
          "text": [
            "Ingrese el nombre del artista: Pedro Suárez-Vértiz\n",
            "Ingrese el nombre del albúm: Degeneración actual\n",
            "{'Nombre Artista': 'Pedro Suárez-Vértiz', 'Nombre Albúm': 'Degeneración actual'}\n",
            "Desea salir? si\n"
          ]
        }
      ]
    },
    {
      "cell_type": "markdown",
      "source": [
        "## **Usando Listas**\n",
        "\n",
        "\n",
        "**Ejercicio 2**\n",
        "\n",
        "Comience con una copia de su programa del Ejercicio anterior. Escriba una función llamada send_messages() que imprima cada mensaje de texto y mueva cada mensaje a una nueva lista llamada sent_messages a medida que se imprime. Después de llamar a la función, imprima ambas listas para asegurarse de que los mensajes se movieron correctamente."
      ],
      "metadata": {
        "id": "NBL5xKOKNPWv"
      }
    },
    {
      "cell_type": "code",
      "source": [
        "def send_messages(messages):\n",
        "  sent_messages = []\n",
        "  print(\"Impresión de cada mensaje de texto:\")\n",
        "  while messages:\n",
        "    Mensaje_Actual = messages.pop()\n",
        "    # Imprimir cada mensaje de texto    \n",
        "    print(f'\\n{Mensaje_Actual}')\n",
        "    # Mover mensaje a una nueva lista llamada sent_messages a medida que se imprime    \n",
        "    sent_messages.append(Mensaje_Actual)\n",
        "  \n",
        "  print(\"\\nImpresión de nueva lista (comprobación):\")\n",
        "  for Mensaje_Movido in sent_messages:\n",
        "    print(f'\\n{Mensaje_Movido}')\n"
      ],
      "metadata": {
        "id": "BnUNihrjShDN"
      },
      "execution_count": null,
      "outputs": []
    },
    {
      "cell_type": "code",
      "source": [
        "send_messages(['mensaje 1','mensaje 2','mensaje 3'])"
      ],
      "metadata": {
        "colab": {
          "base_uri": "https://localhost:8080/"
        },
        "id": "hDKNtMidSEp6",
        "outputId": "4fca217e-e9f5-4f7a-c4d0-e2b3c47ba7f1"
      },
      "execution_count": null,
      "outputs": [
        {
          "output_type": "stream",
          "name": "stdout",
          "text": [
            "Impresión de cada mensaje de texto:\n",
            "\n",
            "mensaje 3\n",
            "\n",
            "mensaje 2\n",
            "\n",
            "mensaje 1\n",
            "\n",
            "Impresión de nueva lista (comprobación):\n",
            "\n",
            "mensaje 3\n",
            "\n",
            "mensaje 2\n",
            "\n",
            "mensaje 1\n"
          ]
        }
      ]
    },
    {
      "cell_type": "markdown",
      "source": [
        "\n",
        "**Ejercicio 3**\n",
        "\n",
        "Comience con su trabajo del Ejercicio anterior. Llame a la función send_messages() con una copia de la lista de mensajes. Después de llamar a la función, imprima ambas listas para mostrar que la lista original ha conservado sus mensajes."
      ],
      "metadata": {
        "id": "gFAABBeSNV1w"
      }
    },
    {
      "cell_type": "code",
      "source": [
        "Lista_Mensajes = ['mensaje 1','mensaje 2','mensaje 3']\n",
        "Copia_Lista_Mensajes = ['mensaje 1','mensaje 2','mensaje 3']\n",
        "send_messages(Copia_Lista_Mensajes)\n",
        "print(f\"\\nLa lista de mensajes originales es: {Lista_Mensajes}\")"
      ],
      "metadata": {
        "colab": {
          "base_uri": "https://localhost:8080/"
        },
        "id": "XPS8ysjHNYZf",
        "outputId": "94edbbc8-e21f-4b80-b97e-3f936be70e4b"
      },
      "execution_count": null,
      "outputs": [
        {
          "output_type": "stream",
          "name": "stdout",
          "text": [
            "Impresión de cada mensaje de texto:\n",
            "\n",
            "mensaje 3\n",
            "\n",
            "mensaje 2\n",
            "\n",
            "mensaje 1\n",
            "\n",
            "Impresión de nueva lista (comprobación):\n",
            "\n",
            "mensaje 3\n",
            "\n",
            "mensaje 2\n",
            "\n",
            "mensaje 1\n",
            "\n",
            "La lista de mensajes originales es: ['mensaje 1', 'mensaje 2', 'mensaje 3']\n"
          ]
        }
      ]
    },
    {
      "cell_type": "markdown",
      "source": [
        "## **Pasar un número arbitrario de argumentos**\n",
        "\n",
        "\n",
        "**Ejercicio 2**\n",
        "\n",
        "Comience con una copia de user_profile de *Uso de argumentos de palabras clave arbitrarias. Cree un perfil de usted mismo llamando a build_profile()*, usando su nombre y apellido y otros tres pares clave-valor que lo describan."
      ],
      "metadata": {
        "id": "iA--7hPfNiR-"
      }
    },
    {
      "cell_type": "code",
      "source": [
        "def build_profile(first, last, **user_info):\n",
        "    \"\"\"Build a dictionary containing everything we know about a user.\"\"\"\n",
        "    user_info['first_name'] = first\n",
        "    user_info['last_name'] = last\n",
        "    return user_info"
      ],
      "metadata": {
        "id": "z-4w3Pk9N5Vk"
      },
      "execution_count": null,
      "outputs": []
    },
    {
      "cell_type": "code",
      "source": [
        "user_profile = build_profile('Wilmer', 'Gastelú',\n",
        "                             location='Peru',\n",
        "                             Course='Python Básico',                             \n",
        "                             University='UNI')\n",
        "print(user_profile)"
      ],
      "metadata": {
        "colab": {
          "base_uri": "https://localhost:8080/"
        },
        "id": "0kobwIImi9E5",
        "outputId": "56ac8b56-50e3-46f9-da88-2748a4a04082"
      },
      "execution_count": null,
      "outputs": [
        {
          "output_type": "stream",
          "name": "stdout",
          "text": [
            "{'location': 'Peru', 'Course': 'Python Básico', 'University': 'UNI', 'first_name': 'Wilmer', 'last_name': 'Gastelú'}\n"
          ]
        }
      ]
    },
    {
      "cell_type": "markdown",
      "source": [
        "**Ejercicio 3**\n",
        "\n",
        "Escribe una función que almacene información sobre un automóvil en un diccionario. La función siempre debe recibir un fabricante y un nombre de modelo. Entonces debería aceptar un número arbitrario de argumentos de palabras clave. Llame a la función con la información requerida y otros dos pares de nombre y valor, como un color o una función opcional. Su función debería funcionar para una llamada como esta:\n",
        "\n",
        "coche = make_car('subaru', 'outback', color='blue', tow_package=True)\n",
        "\n",
        "Imprima el diccionario que se devuelve para asegurarse de que toda la información se almacenó correctamente."
      ],
      "metadata": {
        "id": "w05I3c8wN52M"
      }
    },
    {
      "cell_type": "code",
      "source": [
        "def make_car(fabricante, modelo, **otros):    \n",
        "    otros['Nombre_fabricante'] = fabricante\n",
        "    otros['Nombre_modelo'] = modelo\n",
        "    return otros"
      ],
      "metadata": {
        "id": "H3pO37PUN9YU"
      },
      "execution_count": null,
      "outputs": []
    },
    {
      "cell_type": "code",
      "source": [
        "coche = make_car('subaru', 'outback', color='blue', tow_package=True)\n",
        "print(coche)"
      ],
      "metadata": {
        "colab": {
          "base_uri": "https://localhost:8080/"
        },
        "id": "ltBjc3oLl3M0",
        "outputId": "ed0b25e6-eef7-449a-fbd7-9f110d177e6b"
      },
      "execution_count": null,
      "outputs": [
        {
          "output_type": "stream",
          "name": "stdout",
          "text": [
            "{'color': 'blue', 'tow_package': True, 'Nombre_fabricante': 'subaru', 'Nombre_modelo': 'outback'}\n"
          ]
        }
      ]
    },
    {
      "cell_type": "markdown",
      "source": [
        "## **Introducción a Clases**\n",
        "\n",
        "**Ejercicio 3**\n",
        "\n",
        "Haz una clase llamada Usuario. Cree dos atributos llamados first_name y last_name, y luego cree varios otros atributos que normalmente se almacenan en un perfil de usuario. Cree un método llamado describe_user() que imprima un resumen de la información del usuario. Cree otro método llamado greeting_user() que imprima un saludo personalizado para el usuario.\n",
        "\n",
        "Cree varias instancias que representen a diferentes usuarios y llame a ambos métodos para cada usuario."
      ],
      "metadata": {
        "id": "wp57JM-mN-Pp"
      }
    },
    {
      "cell_type": "code",
      "source": [
        "class Usuario:    \n",
        "    def __init__(self, first_name, last_name, edad, pais):       \n",
        "        self.first_name = first_name\n",
        "        self.last_name = last_name\n",
        "        self.edad = edad\n",
        "        self.pais = pais\n",
        "\n",
        "    def describe_user(self):        \n",
        "        print(f'{self.first_name}, {self.last_name}, {self.edad}, {self.pais}')\n",
        "\n",
        "    def greeting_use(self):        \n",
        "        print(f\"Bienvenido {self.first_name} {self.last_name} de {self.pais}\")"
      ],
      "metadata": {
        "id": "XmpuEI4nOOs0"
      },
      "execution_count": null,
      "outputs": []
    },
    {
      "cell_type": "code",
      "source": [
        "my_user = Usuario(\"Juan\", \"Perez\", 30, \"Perú\")"
      ],
      "metadata": {
        "id": "Ze6bOaybuUc0"
      },
      "execution_count": null,
      "outputs": []
    },
    {
      "cell_type": "code",
      "source": [
        "my_user.describe_user()"
      ],
      "metadata": {
        "colab": {
          "base_uri": "https://localhost:8080/"
        },
        "id": "f-otiY6ytlhd",
        "outputId": "8e6ff55f-c53a-43c7-aa85-a30792850208"
      },
      "execution_count": null,
      "outputs": [
        {
          "output_type": "stream",
          "name": "stdout",
          "text": [
            "Juan, Perez, 30, Perú\n"
          ]
        }
      ]
    },
    {
      "cell_type": "code",
      "source": [
        "my_user.greeting_use()"
      ],
      "metadata": {
        "colab": {
          "base_uri": "https://localhost:8080/"
        },
        "id": "YO_ku1u4uO13",
        "outputId": "244b4553-5718-4018-f89e-3aa6d0a86ddf"
      },
      "execution_count": null,
      "outputs": [
        {
          "output_type": "stream",
          "name": "stdout",
          "text": [
            "Bienvenido Juan Perez de Perú\n"
          ]
        }
      ]
    },
    {
      "cell_type": "markdown",
      "source": [
        "# **Modulo 4**"
      ],
      "metadata": {
        "id": "msAvORTovAhT"
      }
    },
    {
      "cell_type": "markdown",
      "source": [
        "## **Trabajando con Listas numéricas**"
      ],
      "metadata": {
        "id": "uFP27OluvG2d"
      }
    },
    {
      "cell_type": "markdown",
      "source": [
        "**Ejercicio 1**\n",
        "\n",
        "use un bucle for para imprimir los números del 1 al 20, inclusive."
      ],
      "metadata": {
        "id": "LYV357x-vNOk"
      }
    },
    {
      "cell_type": "code",
      "source": [
        "for valor in range(1,21):\n",
        "  print(valor)"
      ],
      "metadata": {
        "colab": {
          "base_uri": "https://localhost:8080/"
        },
        "id": "S8vt36YOvT_N",
        "outputId": "dcd411e4-54a5-45ac-d8c2-7913e8f517f8"
      },
      "execution_count": null,
      "outputs": [
        {
          "output_type": "stream",
          "name": "stdout",
          "text": [
            "1\n",
            "2\n",
            "3\n",
            "4\n",
            "5\n",
            "6\n",
            "7\n",
            "8\n",
            "9\n",
            "10\n",
            "11\n",
            "12\n",
            "13\n",
            "14\n",
            "15\n",
            "16\n",
            "17\n",
            "18\n",
            "19\n",
            "20\n"
          ]
        }
      ]
    },
    {
      "cell_type": "markdown",
      "source": [
        "**Ejercicio 2**\n",
        "\n",
        "Haga una lista de los números del uno al millón y luego use un ciclo for para imprimir los números. (Si la salida tarda demasiado, deténgala presionando CTRL-C o cerrando la ventana de salida)."
      ],
      "metadata": {
        "id": "YoZKbcqWvWOE"
      }
    },
    {
      "cell_type": "code",
      "source": [
        "Lista_Numeros = range(1,1_000_001)\n",
        "for value in Lista_Numeros:\n",
        "  print(value)"
      ],
      "metadata": {
        "id": "QLYN3XKHvXo1"
      },
      "execution_count": null,
      "outputs": []
    },
    {
      "cell_type": "markdown",
      "source": [
        "**Ejercicio 3**\n",
        "\n",
        "Haga una lista de los números del uno al millón y luego use min() y max() para asegurarse de que su lista realmente comience en uno y termine en un millón. Además, use la función sum() para ver qué tan rápido Python puede agregar un millón de números."
      ],
      "metadata": {
        "id": "D6K85VCkvYN2"
      }
    },
    {
      "cell_type": "code",
      "source": [
        "Lista_Numeros = range(1,1_000_001)\n",
        "Minimo = min(Lista_Numeros)\n",
        "Maximo = max(Lista_Numeros)\n",
        "Suma = sum(Lista_Numeros)\n",
        "\n",
        "print(f\"Mínimo: {Minimo}\")\n",
        "print(f\"Máximo: {Maximo}\")\n",
        "print(f\"Suma: {Suma}\")"
      ],
      "metadata": {
        "colab": {
          "base_uri": "https://localhost:8080/"
        },
        "id": "am_J9RsivboD",
        "outputId": "fcc5a245-eadf-4f88-9f10-39c08265f930"
      },
      "execution_count": null,
      "outputs": [
        {
          "output_type": "stream",
          "name": "stdout",
          "text": [
            "Mínimo: 1\n",
            "Máximo: 1000000\n",
            "Suma: 500000500000\n"
          ]
        }
      ]
    },
    {
      "cell_type": "markdown",
      "source": [
        "**Ejercicio 4**\n",
        "\n",
        "Use el tercer argumento de la función range() para hacer una lista de los números impares del 1 al 20. Use un bucle for para imprimir cada número."
      ],
      "metadata": {
        "id": "v98YQ0LPvfDf"
      }
    },
    {
      "cell_type": "code",
      "source": [
        "numeros_impares = list(range(1,20,2))\n",
        "for value in numeros_impares:\n",
        "  print(value)"
      ],
      "metadata": {
        "colab": {
          "base_uri": "https://localhost:8080/"
        },
        "id": "N7xlhmUSvgKG",
        "outputId": "d972f4f7-34a3-4e55-cadd-3bf9de37e19b"
      },
      "execution_count": null,
      "outputs": [
        {
          "output_type": "stream",
          "name": "stdout",
          "text": [
            "1\n",
            "3\n",
            "5\n",
            "7\n",
            "9\n",
            "11\n",
            "13\n",
            "15\n",
            "17\n",
            "19\n"
          ]
        }
      ]
    },
    {
      "cell_type": "markdown",
      "source": [
        "**Ejercicio 5**\n",
        "\n",
        "Haga una lista de los múltiplos de 3 de 3 a 30. Use un ciclo for para imprimir los números en su lista."
      ],
      "metadata": {
        "id": "gsjw5REhvikV"
      }
    },
    {
      "cell_type": "code",
      "source": [
        "multiplos = list(range(3,31,3))\n",
        "for value in multiplos:\n",
        "  print(value)"
      ],
      "metadata": {
        "colab": {
          "base_uri": "https://localhost:8080/"
        },
        "id": "oYST_dbMvklL",
        "outputId": "fb793270-19de-4d25-b155-5f6b049100c3"
      },
      "execution_count": null,
      "outputs": [
        {
          "output_type": "stream",
          "name": "stdout",
          "text": [
            "3\n",
            "6\n",
            "9\n",
            "12\n",
            "15\n",
            "18\n",
            "21\n",
            "24\n",
            "27\n",
            "30\n"
          ]
        }
      ]
    },
    {
      "cell_type": "markdown",
      "source": [
        "**Ejercicio 6**\n",
        "\n",
        "Haga una lista de los primeros 10 cubos (es decir, el cubo de cada número entero del 1 al 10) y use un ciclo for para imprimir el valor de cada cubo."
      ],
      "metadata": {
        "id": "h05mWx5-vlGy"
      }
    },
    {
      "cell_type": "code",
      "source": [
        "Lista_Numeros = list(range(1,11))\n",
        "for value in Lista_Numeros:  \n",
        "  print(value**3)"
      ],
      "metadata": {
        "colab": {
          "base_uri": "https://localhost:8080/"
        },
        "id": "lWtiSa3fvoAw",
        "outputId": "8d5c5ea8-b785-4ca5-83cf-ade71d0ea6c3"
      },
      "execution_count": null,
      "outputs": [
        {
          "output_type": "stream",
          "name": "stdout",
          "text": [
            "1\n",
            "8\n",
            "27\n",
            "64\n",
            "125\n",
            "216\n",
            "343\n",
            "512\n",
            "729\n",
            "1000\n"
          ]
        }
      ]
    },
    {
      "cell_type": "markdown",
      "source": [
        "**Ejercicio 7**\n",
        "\n",
        "Use una lista de comprensión para generar una lista de los primeros 10 cubos."
      ],
      "metadata": {
        "id": "E6pHgS4gvqGQ"
      }
    },
    {
      "cell_type": "code",
      "source": [
        "cubos = [value**3 for value in range(1, 11)]\n",
        "print(cubos)"
      ],
      "metadata": {
        "colab": {
          "base_uri": "https://localhost:8080/"
        },
        "id": "Pwck_vSdvt1g",
        "outputId": "5003da93-ac33-4493-b204-6263070b387f"
      },
      "execution_count": null,
      "outputs": [
        {
          "output_type": "stream",
          "name": "stdout",
          "text": [
            "[1, 8, 27, 64, 125, 216, 343, 512, 729, 1000]\n"
          ]
        }
      ]
    },
    {
      "cell_type": "markdown",
      "source": [
        "## **Trabajando con slices**"
      ],
      "metadata": {
        "id": "IrUOItAhvz-W"
      }
    },
    {
      "cell_type": "markdown",
      "source": [
        "**Ejercicio 1**\n",
        "\n",
        "Utilizando alguna lista definida anteriormente:\n",
        "\n",
        "- Imprima el mensaje Los tres primeros elementos de la lista son:. Luego use un slice para imprimir los primeros tres elementos de la lista de ese programa.\n",
        "\n",
        "- Imprima el mensaje Tres elementos de la mitad de la lista son:. Use un slice para imprimir tres elementos del medio de la lista.\n",
        "\n",
        "- Imprima el mensaje Los últimos tres elementos de la lista son:. Utilice un slice para imprimir los últimos tres elementos de la lista."
      ],
      "metadata": {
        "id": "GJ9Dwy3Fv64C"
      }
    },
    {
      "cell_type": "code",
      "source": [
        "players = ['charles', 'martina', 'michael', 'florence', 'eli']\n",
        "\n",
        "print(f\"Los tres primeros elementos de la lista son: {players[0:3]}\")\n",
        "print(f\"Tres elementos de la mitad de la lista son: {players[1:4]}\")\n",
        "print(f\"Los últimos tres elementos de la lista son: {players[2:5]}\")"
      ],
      "metadata": {
        "colab": {
          "base_uri": "https://localhost:8080/"
        },
        "id": "Mwj_PHHYv_bV",
        "outputId": "ee1ad83d-9f68-425c-b247-f454a573e0ce"
      },
      "execution_count": null,
      "outputs": [
        {
          "output_type": "stream",
          "name": "stdout",
          "text": [
            "Los tres primeros elementos de la lista son: ['charles', 'martina', 'michael']\n",
            "Tres elementos de la mitad de la lista son: ['martina', 'michael', 'florence']\n",
            "Los últimos tres elementos de la lista son: ['michael', 'florence', 'eli']\n"
          ]
        }
      ]
    },
    {
      "cell_type": "markdown",
      "source": [
        "**Ejercicio 2**\n",
        "\n",
        "Haga una copia de la lista de pizzas y llámela friend_pizzas. Luego, haz lo siguiente:\n",
        "\n",
        "- Agregue una nueva pizza a la lista original.\n",
        "- Agrega una pizza diferente a la lista friend_pizzas.\n",
        "- Demuestra que tienes dos listas separadas. Imprima el mensaje Mis pizzas favoritas son: y luego use un bucle for para imprimir la primera lista. Imprima el mensaje Las pizzas favoritas de mi amigo son: y luego use un bucle for para imprimir la segunda lista. Asegúrese de que cada pizza nueva se almacene en la lista adecuada."
      ],
      "metadata": {
        "id": "KVXQ4M54wTJs"
      }
    },
    {
      "cell_type": "code",
      "source": [
        "Lista_original_pizzas = [\"Vegetariana\", \"Hawaiana\", \"Napolitana\"]\n",
        "friend_pizzas = [\"Vegetariana\", \"Hawaiana\", \"Napolitana\"]"
      ],
      "metadata": {
        "id": "7mMvR0h6v2El"
      },
      "execution_count": null,
      "outputs": []
    },
    {
      "cell_type": "code",
      "source": [
        "Lista_original_pizzas.append(\"Americana\")"
      ],
      "metadata": {
        "id": "Wa50n0Pd6pLr"
      },
      "execution_count": null,
      "outputs": []
    },
    {
      "cell_type": "code",
      "source": [
        "friend_pizzas.append(\"Clasica\")"
      ],
      "metadata": {
        "id": "ehtxaTGH7WNO"
      },
      "execution_count": null,
      "outputs": []
    },
    {
      "cell_type": "code",
      "source": [
        "print(f\"Mis pizzas favoritas son:\")\n",
        "for value in Lista_original_pizzas:\n",
        "  print(f\" - {value}\")"
      ],
      "metadata": {
        "colab": {
          "base_uri": "https://localhost:8080/"
        },
        "id": "T54fB4qc8Qge",
        "outputId": "3ceb8c76-beb6-4f3b-ace4-7c874bcd7cb8"
      },
      "execution_count": null,
      "outputs": [
        {
          "output_type": "stream",
          "name": "stdout",
          "text": [
            "Mis pizzas favoritas son:\n",
            " - Vegetariana\n",
            " - Hawaiana\n",
            " - Napolitana\n",
            " - Americana\n"
          ]
        }
      ]
    },
    {
      "cell_type": "code",
      "source": [
        "print(f\"Las pizzas favoritas de mi amigo son:\")\n",
        "for value in friend_pizzas:\n",
        "  print(f\" - {value}\")"
      ],
      "metadata": {
        "colab": {
          "base_uri": "https://localhost:8080/"
        },
        "id": "_3nRK1gk8uME",
        "outputId": "844b26bd-8560-44f6-d704-6383d1054579"
      },
      "execution_count": null,
      "outputs": [
        {
          "output_type": "stream",
          "name": "stdout",
          "text": [
            "Las pizzas favoritas de mi amigo son:\n",
            " - Vegetariana\n",
            " - Hawaiana\n",
            " - Napolitana\n",
            " - Clasica\n"
          ]
        }
      ]
    },
    {
      "cell_type": "markdown",
      "source": [
        "## **Tuplas**\n",
        "\n",
        "**Ejercicio 1**\n",
        "\n",
        "Un restaurante estilo buffet ofrece solo cinco alimentos básicos. Piense en cinco alimentos simples y guárdelos en una tupla.\n",
        "\n",
        "- Use un bucle for para imprimir cada comida que ofrece el restaurante.\n",
        "\n",
        "- Intente modificar uno de los elementos y asegúrese de que Python rechace el cambio.\n",
        "\n",
        "- El restaurante cambia su menú, reemplazando dos de los artículos con comidas diferentes. Agregue una línea que reescriba la tupla y luego use un ciclo for para imprimir cada uno de los elementos en el menú revisado."
      ],
      "metadata": {
        "id": "-AZ9bDbmwZyG"
      }
    },
    {
      "cell_type": "code",
      "source": [
        "Alimentos = (\"Cafe\", \"Pan\", \"Leche\", \"Queso\")\n",
        "for value in Alimentos:\n",
        "  print(value)"
      ],
      "metadata": {
        "colab": {
          "base_uri": "https://localhost:8080/"
        },
        "id": "5t3zh4rdwqGh",
        "outputId": "af2d971f-e3bd-4d44-a7c2-95db49e95ca5"
      },
      "execution_count": null,
      "outputs": [
        {
          "output_type": "stream",
          "name": "stdout",
          "text": [
            "Cafe\n",
            "Pan\n",
            "Leche\n",
            "Queso\n"
          ]
        }
      ]
    },
    {
      "cell_type": "code",
      "source": [
        "Alimentos.append(\"Quinua\")"
      ],
      "metadata": {
        "colab": {
          "base_uri": "https://localhost:8080/",
          "height": 165
        },
        "id": "vmFmz9_c_IT_",
        "outputId": "d3f523ec-7d15-49e7-ba45-0d6e04b47a39"
      },
      "execution_count": null,
      "outputs": [
        {
          "output_type": "error",
          "ename": "AttributeError",
          "evalue": "ignored",
          "traceback": [
            "\u001b[0;31m---------------------------------------------------------------------------\u001b[0m",
            "\u001b[0;31mAttributeError\u001b[0m                            Traceback (most recent call last)",
            "\u001b[0;32m<ipython-input-166-5e630b60f1db>\u001b[0m in \u001b[0;36m<module>\u001b[0;34m\u001b[0m\n\u001b[0;32m----> 1\u001b[0;31m \u001b[0mAlimentos\u001b[0m\u001b[0;34m.\u001b[0m\u001b[0mappend\u001b[0m\u001b[0;34m(\u001b[0m\u001b[0;34m\"Quinua\"\u001b[0m\u001b[0;34m)\u001b[0m\u001b[0;34m\u001b[0m\u001b[0;34m\u001b[0m\u001b[0m\n\u001b[0m",
            "\u001b[0;31mAttributeError\u001b[0m: 'tuple' object has no attribute 'append'"
          ]
        }
      ]
    },
    {
      "cell_type": "code",
      "source": [
        "Alimentos = (\"Cafe\", \"Pan\", \"Chocolate\", \"Yogurt\")\n",
        "for value in Alimentos:\n",
        "  print(value)"
      ],
      "metadata": {
        "colab": {
          "base_uri": "https://localhost:8080/"
        },
        "id": "cmmcVGcR_Rl_",
        "outputId": "ee729111-91df-41dd-b4ee-47530b143f81"
      },
      "execution_count": null,
      "outputs": [
        {
          "output_type": "stream",
          "name": "stdout",
          "text": [
            "Cafe\n",
            "Pan\n",
            "Chocolate\n",
            "Yogurt\n"
          ]
        }
      ]
    },
    {
      "cell_type": "markdown",
      "source": [
        "## **Diccionarios**\n",
        "\n",
        "**Ejercicio 1**\n",
        "\n",
        "Usa un diccionario para almacenar información sobre una persona que conoces. Almacene su nombre, apellido, edad y la ciudad en la que vive. Debe tener claves como nombre, apellido, edad y ciudad. Imprima cada parte de información almacenada en su diccionario."
      ],
      "metadata": {
        "id": "jhmt5gPowuwB"
      }
    },
    {
      "cell_type": "code",
      "source": [],
      "metadata": {
        "id": "OvUqeVwHw62M"
      },
      "execution_count": null,
      "outputs": []
    },
    {
      "cell_type": "markdown",
      "source": [
        "**Ejercicio 2**\n",
        "\n",
        "Use un diccionario para almacenar los números favoritos de las personas. Piensa en cinco nombres y utilízalos como llaves en tu diccionario. Piense en un número favorito para cada persona y guárdelo como un valor en su diccionario. Escriba el nombre de cada persona y su número favorito."
      ],
      "metadata": {
        "id": "yTlXZEjIw7YO"
      }
    },
    {
      "cell_type": "code",
      "source": [],
      "metadata": {
        "id": "JjC-Ts_Zw-lA"
      },
      "execution_count": null,
      "outputs": []
    },
    {
      "cell_type": "markdown",
      "source": [
        "**Ejercicio 3**\n",
        "\n",
        "Piense en cinco palabras de programación que haya aprendido. Utilice estas palabras como llaves en su glosario y almacene sus significados como valores.\n",
        "\n",
        "Imprima cada palabra y su significado como una salida con un formato ordenado. Puede imprimir la palabra seguida de dos puntos y luego su significado, o imprimir la palabra en una línea y luego imprimir su significado con sangría en una segunda línea. Utilice el carácter de nueva línea (\\n) para insertar una línea en blanco entre cada par de palabra y significado en su salida."
      ],
      "metadata": {
        "id": "gdZ-H9XSw_CQ"
      }
    },
    {
      "cell_type": "code",
      "source": [],
      "metadata": {
        "id": "ZghzzXYExDmb"
      },
      "execution_count": null,
      "outputs": []
    },
    {
      "cell_type": "markdown",
      "source": [
        "## **Loops con diccionarios**\n",
        "\n",
        "**Ejercicio 1**\n",
        "\n",
        "Haga un diccionario que contenga tres ríos principales y el país por el que pasa cada río. Un par clave-valor podría ser 'nilo': 'egipto'.\n",
        "\n",
        "Use un bucle para imprimir una oración sobre cada río, como El Nilo atraviesa Egipto.\n",
        "Utilice un bucle para imprimir el nombre de cada río incluido en el diccionario.\n",
        "Use un bucle para imprimir el nombre de cada país incluido en el diccionario."
      ],
      "metadata": {
        "id": "csRanbupxIVk"
      }
    },
    {
      "cell_type": "code",
      "source": [],
      "metadata": {
        "id": "BWWNdOPYxMlV"
      },
      "execution_count": null,
      "outputs": []
    },
    {
      "cell_type": "markdown",
      "source": [
        "**Ejercicio 2**\n",
        "\n",
        "Haz una lista de las personas que deberían participar en la encuesta de idiomas favoritos. Incluye algunos nombres que ya estén en el diccionario y otros que no. Recorra la lista de personas que deberían realizar la encuesta. Si ya han realizado la encuesta, imprima un mensaje agradeciéndoles por responder. Si aún no han realizado la encuesta, imprima un mensaje invitándoles a realizar la encuesta."
      ],
      "metadata": {
        "id": "85yCC-SJxOao"
      }
    },
    {
      "cell_type": "code",
      "source": [],
      "metadata": {
        "id": "yj1KfklZxPuJ"
      },
      "execution_count": null,
      "outputs": []
    },
    {
      "cell_type": "markdown",
      "source": [
        "## **Una lista en un diccionario**\n",
        "\n",
        "**Ejercicio 1**\n",
        "\n",
        "Cree tres nuevos diccionarios que representen a diferentes personas y almacene los tres diccionarios en una lista llamada personas. Recorra su lista de personas. Mientras recorre la lista, imprima todo lo que sabe sobre cada persona."
      ],
      "metadata": {
        "id": "VQhdaIVPxQ2m"
      }
    },
    {
      "cell_type": "code",
      "source": [],
      "metadata": {
        "id": "uEO_1vnmxje8"
      },
      "execution_count": null,
      "outputs": []
    },
    {
      "cell_type": "markdown",
      "source": [
        "**Ejercicio 2**\n",
        "\n",
        "Haga varios diccionarios, donde cada diccionario represente una mascota diferente. En cada diccionario, incluya el tipo de animal y el nombre del dueño. Guarde estos diccionarios en una lista llamada mascotas. A continuación, recorra su lista y, mientras lo hace, imprima todo lo que sepa sobre cada mascota."
      ],
      "metadata": {
        "id": "HJLLVUE4xle5"
      }
    },
    {
      "cell_type": "code",
      "source": [],
      "metadata": {
        "id": "b037umVwxoDx"
      },
      "execution_count": null,
      "outputs": []
    },
    {
      "cell_type": "markdown",
      "source": [
        "**Ejercicio 3**\n",
        "\n",
        "Haga un diccionario llamado lugares_favoritos. Piense en tres nombres para usar como llaves en el diccionario y almacene de uno a tres lugares favoritos para cada persona. Recorre el diccionario e imprime el nombre de cada persona y sus lugares favoritos."
      ],
      "metadata": {
        "id": "M8BduGDRxodM"
      }
    },
    {
      "cell_type": "code",
      "source": [],
      "metadata": {
        "id": "qBnq69MSxq6C"
      },
      "execution_count": null,
      "outputs": []
    },
    {
      "cell_type": "markdown",
      "source": [
        "**Ejercicio 4**\n",
        "\n",
        "Haz un diccionario llamado ciudades. Usa los nombres de tres ciudades como llaves en tu diccionario. Cree un diccionario de información sobre cada ciudad e incluya el país en el que se encuentra la ciudad, su población aproximada y un dato sobre esa ciudad. Las claves para el diccionario de cada ciudad deben ser algo como país, población y hecho. Imprime el nombre de cada ciudad y toda la información que tengas almacenada sobre ella."
      ],
      "metadata": {
        "id": "Y1AgYvvHxrp-"
      }
    },
    {
      "cell_type": "code",
      "source": [],
      "metadata": {
        "id": "HC6DuVVIxxTD"
      },
      "execution_count": null,
      "outputs": []
    },
    {
      "cell_type": "markdown",
      "source": [
        "**Ejercicio 5**\n",
        "\n",
        "Ahora estamos trabajando con ejemplos que son lo suficientemente complejos como para que puedan extenderse de varias maneras. Utilice uno de los programas de este laboratorio y amplíelo agregando nuevas claves y valores, cambiando el contexto del programa o mejorando el formato de la salida."
      ],
      "metadata": {
        "id": "1_9Ihhsqxzf1"
      }
    },
    {
      "cell_type": "code",
      "source": [],
      "metadata": {
        "id": "GC9wiZt4x1XL"
      },
      "execution_count": null,
      "outputs": []
    }
  ]
}